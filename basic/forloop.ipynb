{
 "cells": [
  {
   "cell_type": "code",
   "execution_count": 1,
   "metadata": {},
   "outputs": [
    {
     "name": "stdout",
     "output_type": "stream",
     "text": [
      "Say hello to for-loops...\n",
      "Hello for-loops!\n",
      "Hello for-loops!\n",
      "Hello for-loops!\n"
     ]
    }
   ],
   "source": [
    "print(\"Say hello to for-loops...\")\n",
    "for i in range(3):\n",
    "    print(\"Hello for-loops!\")"
   ]
  },
  {
   "cell_type": "code",
   "execution_count": 2,
   "metadata": {},
   "outputs": [
    {
     "name": "stdout",
     "output_type": "stream",
     "text": [
      "What does range(3) contain?\n",
      "0\n",
      "1\n",
      "2\n"
     ]
    }
   ],
   "source": [
    "print(\"What does range(3) contain?\")\n",
    "for i in range(3):\n",
    "    print(i)"
   ]
  },
  {
   "cell_type": "code",
   "execution_count": 3,
   "metadata": {},
   "outputs": [
    {
     "name": "stdout",
     "output_type": "stream",
     "text": [
      "What does my_list contain?\n",
      "0 How 3\n",
      "1 It 2\n",
      "2 Works 5\n",
      "3 ? 1\n"
     ]
    }
   ],
   "source": [
    "my_list = [\"How\", \"It\", \"Works\", \"?\"]\n",
    "print(\"What does my_list contain?\")\n",
    "for i, item in enumerate(my_list):\n",
    "    print(i, item, len(item))"
   ]
  },
  {
   "cell_type": "code",
   "execution_count": 4,
   "metadata": {},
   "outputs": [
    {
     "name": "stdout",
     "output_type": "stream",
     "text": [
      "[0, 1, 2, 3, 4, 5, 6, 7, 8, 9]\n"
     ]
    }
   ],
   "source": [
    "l = list(range(10))\n",
    "print(l)"
   ]
  },
  {
   "cell_type": "code",
   "execution_count": 5,
   "metadata": {},
   "outputs": [
    {
     "name": "stdout",
     "output_type": "stream",
     "text": [
      "Apple contains 'e'\n"
     ]
    }
   ],
   "source": [
    "# Example 1.\n",
    "s = \"Apple\"\n",
    "for c in s:\n",
    "    if c == \"e\":\n",
    "        print(s + \" contains 'e'\")"
   ]
  },
  {
   "cell_type": "code",
   "execution_count": 6,
   "metadata": {},
   "outputs": [
    {
     "name": "stdout",
     "output_type": "stream",
     "text": [
      "1\n",
      "1\n",
      "2\n",
      "4\n",
      "3\n",
      "9\n"
     ]
    }
   ],
   "source": [
    "# Example 2.\n",
    "list_of_tuples = [(1,1), (2,4), (3,9)]\n",
    "for (first, second) in list_of_tuples:\n",
    "    print(first)\n",
    "    print(second)"
   ]
  },
  {
   "cell_type": "code",
   "execution_count": 7,
   "metadata": {},
   "outputs": [
    {
     "name": "stdout",
     "output_type": "stream",
     "text": [
      "How to compute average?\n",
      "50.5\n"
     ]
    }
   ],
   "source": [
    "print(\"How to compute average?\")\n",
    "target = list(range(1, 101))\n",
    "total = 0\n",
    "for number in target:\n",
    "    total += number\n",
    "print(total / len(target))"
   ]
  },
  {
   "cell_type": "code",
   "execution_count": null,
   "metadata": {},
   "outputs": [],
   "source": []
  }
 ],
 "metadata": {
  "kernelspec": {
   "display_name": "Python 3",
   "language": "python",
   "name": "python3"
  },
  "language_info": {
   "codemirror_mode": {
    "name": "ipython",
    "version": 3
   },
   "file_extension": ".py",
   "mimetype": "text/x-python",
   "name": "python",
   "nbconvert_exporter": "python",
   "pygments_lexer": "ipython3",
   "version": "3.7.0"
  }
 },
 "nbformat": 4,
 "nbformat_minor": 2
}
