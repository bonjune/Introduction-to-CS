{
 "cells": [
  {
   "cell_type": "code",
   "execution_count": 1,
   "metadata": {},
   "outputs": [
    {
     "name": "stdout",
     "output_type": "stream",
     "text": [
      "Say hello to while-loops\n",
      "Hello while-loop!\n",
      "Hello while-loop!\n",
      "Hello while-loop!\n"
     ]
    }
   ],
   "source": [
    "print(\"Say hello to while-loops\")\n",
    "i = 0\n",
    "while (i < 3):\n",
    "    print(\"Hello while-loop!\")\n",
    "    i += 1"
   ]
  },
  {
   "cell_type": "code",
   "execution_count": 2,
   "metadata": {},
   "outputs": [
    {
     "name": "stdout",
     "output_type": "stream",
     "text": [
      "Enter a postive integer number:1\n",
      "Enter a postive integer number:3\n",
      "Enter a postive integer number:5\n",
      "Enter a postive integer number:7\n",
      "Enter a postive integer number:0\n",
      "Wrong Input\n"
     ]
    }
   ],
   "source": [
    "# While loop is more powerful than for-loop\n",
    "# When there is a termination condition\n",
    "\n",
    "valid_input = True\n",
    "while (valid_input):\n",
    "    user_input = int(input(\"Enter a postive integer number:\"))\n",
    "    if user_input < 1 :\n",
    "        print(\"Wrong Input\")\n",
    "        valid_input = False"
   ]
  },
  {
   "cell_type": "code",
   "execution_count": 4,
   "metadata": {},
   "outputs": [
    {
     "name": "stdout",
     "output_type": "stream",
     "text": [
      "Press Ctrl+C to stop this loop\n",
      "Press Ctrl+C to stop this loop\n",
      "Press Ctrl+C to stop this loop\n",
      "Press Ctrl+C to stop this loop\n",
      "Press Ctrl+C to stop this loop\n",
      "Press Ctrl+C to stop this loop\n",
      "Press Ctrl+C to stop this loop\n",
      "Press Ctrl+C to stop this loop\n",
      "Press Ctrl+C to stop this loop\n",
      "Press Ctrl+C to stop this loop\n"
     ]
    },
    {
     "ename": "KeyboardInterrupt",
     "evalue": "",
     "output_type": "error",
     "traceback": [
      "\u001b[0;31m---------------------------------------------------------------------------\u001b[0m",
      "\u001b[0;31mKeyboardInterrupt\u001b[0m                         Traceback (most recent call last)",
      "\u001b[0;32m<ipython-input-4-95942d5a802f>\u001b[0m in \u001b[0;36m<module>\u001b[0;34m()\u001b[0m\n\u001b[1;32m      3\u001b[0m \u001b[0;32mwhile\u001b[0m \u001b[0;32mTrue\u001b[0m\u001b[0;34m:\u001b[0m\u001b[0;34m\u001b[0m\u001b[0m\n\u001b[1;32m      4\u001b[0m     \u001b[0mprint\u001b[0m\u001b[0;34m(\u001b[0m\u001b[0;34m\"Press Ctrl+C to stop this loop\"\u001b[0m\u001b[0;34m)\u001b[0m\u001b[0;34m\u001b[0m\u001b[0m\n\u001b[0;32m----> 5\u001b[0;31m     \u001b[0msleep\u001b[0m\u001b[0;34m(\u001b[0m\u001b[0;36m1\u001b[0m\u001b[0;34m)\u001b[0m\u001b[0;34m\u001b[0m\u001b[0m\n\u001b[0m",
      "\u001b[0;31mKeyboardInterrupt\u001b[0m: "
     ]
    }
   ],
   "source": [
    "from time import sleep\n",
    "\n",
    "while True:\n",
    "    print(\"Press Ctrl+C to stop this loop\")\n",
    "    sleep(1)"
   ]
  },
  {
   "cell_type": "code",
   "execution_count": 9,
   "metadata": {},
   "outputs": [
    {
     "name": "stdout",
     "output_type": "stream",
     "text": [
      "How much to use?:5000\n",
      "남은 돈: -2000\n",
      "더 이상 남은 돈이 없습니다.\n"
     ]
    }
   ],
   "source": [
    "# This is wrong code\n",
    "balance = 3000\n",
    "while balance > 0:\n",
    "    price = int(input(\"How much to use?:\"))\n",
    "    balance -= price\n",
    "print(\"남은 돈:\", balance)\n",
    "print(\"더 이상 쓸 수 있는 돈이 없습니다.\")"
   ]
  },
  {
   "cell_type": "code",
   "execution_count": 11,
   "metadata": {},
   "outputs": [
    {
     "name": "stdout",
     "output_type": "stream",
     "text": [
      "How much to use?:2000\n",
      "남은 돈: 1000\n",
      "How much to use?:5000\n",
      "남은 돈: 1000\n",
      "더 이상 남은 돈이 없습니다.\n"
     ]
    }
   ],
   "source": [
    "# This is logically right\n",
    "\n",
    "balance = 3000\n",
    "while True:\n",
    "    price = int(input(\"How much to use?:\"))\n",
    "    if (balance - price < 0):\n",
    "        break\n",
    "    balance -= price\n",
    "    print(\"남은 돈:\", balance)\n",
    "print(\"남은 돈:\", balance)\n",
    "print(\"더 이상 쓸 수 있는 돈이 없습니다.\")"
   ]
  },
  {
   "cell_type": "code",
   "execution_count": null,
   "metadata": {},
   "outputs": [],
   "source": []
  }
 ],
 "metadata": {
  "kernelspec": {
   "display_name": "Python 3",
   "language": "python",
   "name": "python3"
  },
  "language_info": {
   "codemirror_mode": {
    "name": "ipython",
    "version": 3
   },
   "file_extension": ".py",
   "mimetype": "text/x-python",
   "name": "python",
   "nbconvert_exporter": "python",
   "pygments_lexer": "ipython3",
   "version": "3.7.0"
  }
 },
 "nbformat": 4,
 "nbformat_minor": 2
}
