{
 "cells": [
  {
   "cell_type": "code",
   "execution_count": 7,
   "metadata": {},
   "outputs": [
    {
     "name": "stdout",
     "output_type": "stream",
     "text": [
      "How many kilograms does your luggage weigh? 10\n",
      "You can check in your luggage with no charge.\n"
     ]
    }
   ],
   "source": [
    "luggage_weight = int(input(\"How many kilograms does your luggage weigh? \"))\n",
    "\n",
    "if luggage_weight > 15 :\n",
    "    print(\"You have to pay additional charge for the luggage: 15$.\")\n",
    "else:\n",
    "    print(\"You can check in your luggage with no charge.\")"
   ]
  },
  {
   "cell_type": "code",
   "execution_count": 10,
   "metadata": {},
   "outputs": [
    {
     "name": "stdout",
     "output_type": "stream",
     "text": [
      "How many kilograms does your luggage weigh? 20\n",
      "You have to pay additional charge for the luggage: 15$\n"
     ]
    }
   ],
   "source": [
    "luggage_weight = int(input(\"How many kilograms does your luggage weigh? \"))\n",
    "\n",
    "if luggage_weight > 25 :\n",
    "    print(\"You have to pay additional charge for the luggage: 30$\")\n",
    "elif luggage_weight > 15 :\n",
    "    print(\"You have to pay additional charge for the luggage: 15$\")\n",
    "else:\n",
    "    print(\"You can check in your luggage with no charge.\")"
   ]
  },
  {
   "cell_type": "code",
   "execution_count": 11,
   "metadata": {},
   "outputs": [
    {
     "name": "stdout",
     "output_type": "stream",
     "text": [
      "Hello, Park!\n"
     ]
    }
   ],
   "source": [
    "# if-statements are often combined with for-statements\n",
    "\n",
    "people = ['Kim', 'Lee', 'Park', 'Kang']\n",
    "\n",
    "# I wanna find Park\n",
    "for person in people:\n",
    "    if person == 'Park':\n",
    "        print(\"Hello, Park!\")\n",
    "        # No more loop is needed, I already found him/her.\n",
    "        break\n",
    "        # So stop looping"
   ]
  },
  {
   "cell_type": "code",
   "execution_count": null,
   "metadata": {},
   "outputs": [],
   "source": [
    "temperature = [23, 35, 34, 9, 29, 2, -3, 31, 17, 20, 41, 8, 29, 20, 34, 13]\n",
    "\n",
    "hot = 0\n",
    "nice = 0\n",
    "chilly = 0\n",
    "\n",
    "for day in temperature:\n",
    "    if day > 28:\n",
    "        hot += 1\n",
    "    elif day > 15\n",
    "        "
   ]
  }
 ],
 "metadata": {
  "kernelspec": {
   "display_name": "Python 3",
   "language": "python",
   "name": "python3"
  },
  "language_info": {
   "codemirror_mode": {
    "name": "ipython",
    "version": 3
   },
   "file_extension": ".py",
   "mimetype": "text/x-python",
   "name": "python",
   "nbconvert_exporter": "python",
   "pygments_lexer": "ipython3",
   "version": "3.7.0"
  }
 },
 "nbformat": 4,
 "nbformat_minor": 2
}
